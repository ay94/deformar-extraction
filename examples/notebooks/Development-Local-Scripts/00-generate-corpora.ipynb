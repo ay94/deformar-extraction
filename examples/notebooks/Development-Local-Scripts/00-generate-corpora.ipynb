{
 "cells": [
  {
   "cell_type": "code",
   "execution_count": 3,
   "metadata": {},
   "outputs": [],
   "source": [
    "if 'google.colab' in str(get_ipython()):\n",
    "    from google.colab import userdata\n",
    "    access_token = userdata.get('DEFORMER_TOKEN')\n",
    "    !pip install git+https://$access_token@github.com/ay94/deformer-extractor.git@error-handling"
   ]
  },
  {
   "cell_type": "code",
   "execution_count": 4,
   "metadata": {},
   "outputs": [],
   "source": [
    "from datasets import load_dataset\n",
    "from experiment_utils import colab, utils"
   ]
  },
  {
   "cell_type": "code",
   "execution_count": 5,
   "metadata": {},
   "outputs": [
    {
     "name": "stderr",
     "output_type": "stream",
     "text": [
      "2024-06-02 05:16:50,577 - WARNING - Resolved path does not exist, checking alternative paths: /Users/ay227/Desktop/Final-Year/Thesis-Experiments/Data-Extraction-Phase/notebooks/My Drive\n",
      "2024-06-02 05:16:50,579 - INFO - Found Google Drive directory for account ahmed.younes.sam@gmail.com: /Users/ay227/Library/CloudStorage/GoogleDrive-ahmed.younes.sam@gmail.com\n"
     ]
    }
   ],
   "source": [
    "local_drive_dir = colab.init('My Drive')\n",
    "data_folder = local_drive_dir / 'Final Year Experiments/Class Imbalance/0_generateExperimentData'\n",
    "fh = utils.FileHandler(data_folder)"
   ]
  },
  {
   "cell_type": "code",
   "execution_count": 6,
   "metadata": {},
   "outputs": [
    {
     "name": "stderr",
     "output_type": "stream",
     "text": [
      "2024-06-02 05:16:54,742 - INFO - Initializing datasets\n",
      "2024-06-02 05:16:54,744 - INFO - Generating ANERCorp_CamelLab\n",
      "2024-06-02 05:16:54,745 - INFO - Generating train Split\n",
      "2024-06-02 05:16:54,861 - INFO - Generating test Split\n",
      "2024-06-02 05:16:54,885 - INFO - ANERCorp_CamelLab dataset successfully initialized.\n",
      "2024-06-02 05:16:54,886 - INFO - Generating conll2003 dataset\n",
      "2024-06-02 05:16:54,886 - INFO - Generating train Split\n"
     ]
    },
    {
     "data": {
      "application/vnd.jupyter.widget-view+json": {
       "model_id": "15f2b08e2cd846329a9f413a297031fd",
       "version_major": 2,
       "version_minor": 0
      },
      "text/plain": [
       "Processing train:   0%|          | 0/14041 [00:00<?, ?it/s]"
      ]
     },
     "metadata": {},
     "output_type": "display_data"
    },
    {
     "name": "stderr",
     "output_type": "stream",
     "text": [
      "2024-06-02 05:16:56,830 - INFO - Generating validation Split\n"
     ]
    },
    {
     "data": {
      "application/vnd.jupyter.widget-view+json": {
       "model_id": "962f01897e0246408d54069d6f976a26",
       "version_major": 2,
       "version_minor": 0
      },
      "text/plain": [
       "Processing validation:   0%|          | 0/3250 [00:00<?, ?it/s]"
      ]
     },
     "metadata": {},
     "output_type": "display_data"
    },
    {
     "name": "stderr",
     "output_type": "stream",
     "text": [
      "2024-06-02 05:16:57,284 - INFO - Generating test Split\n"
     ]
    },
    {
     "data": {
      "application/vnd.jupyter.widget-view+json": {
       "model_id": "081bac889b844aa984ef79418c5e82c8",
       "version_major": 2,
       "version_minor": 0
      },
      "text/plain": [
       "Processing test:   0%|          | 0/3453 [00:00<?, ?it/s]"
      ]
     },
     "metadata": {},
     "output_type": "display_data"
    },
    {
     "name": "stderr",
     "output_type": "stream",
     "text": [
      "2024-06-02 05:16:57,796 - INFO - Successfully generated all splits for conll2003.\n",
      "2024-06-02 05:16:57,798 - INFO - conll2003 dataset successfully initialized.\n",
      "2024-06-02 05:16:57,799 - INFO - Generating ANERCorp_CamelLab\n",
      "2024-06-02 05:16:57,800 - INFO - Generating train Split\n",
      "2024-06-02 05:16:58,150 - INFO - Generating test Split\n",
      "2024-06-02 05:16:58,178 - INFO - ANERCorp_CamelLab-validation dataset successfully initialized.\n"
     ]
    }
   ],
   "source": [
    "conll2003_dataset = load_dataset('conll2003', trust_remote_code=True)\n",
    "corpora = fh.load_corpora(conll2003_dataset, 'ANERcorp-CamelLabSplits/ANERCorp_CamelLab')\n"
   ]
  },
  {
   "cell_type": "code",
   "execution_count": 7,
   "metadata": {},
   "outputs": [
    {
     "data": {
      "text/plain": [
       "dict_keys(['ANERCorp_CamelLab', 'conll2003', 'ANERCorp_CamelLab-validation'])"
      ]
     },
     "execution_count": 7,
     "metadata": {},
     "output_type": "execute_result"
    }
   ],
   "source": [
    "corpora.keys()"
   ]
  },
  {
   "cell_type": "code",
   "execution_count": 8,
   "metadata": {},
   "outputs": [
    {
     "data": {
      "text/plain": [
       "dict_keys(['train', 'validation', 'test', 'labels', 'labels_map', 'inv_labels'])"
      ]
     },
     "execution_count": 8,
     "metadata": {},
     "output_type": "execute_result"
    }
   ],
   "source": [
    "corpora['ANERCorp_CamelLab-validation'].keys()"
   ]
  },
  {
   "cell_type": "code",
   "execution_count": 9,
   "metadata": {},
   "outputs": [
    {
     "data": {
      "text/plain": [
       "dict_keys(['train', 'validation', 'test', 'labels', 'labels_map', 'inv_labels'])"
      ]
     },
     "execution_count": 9,
     "metadata": {},
     "output_type": "execute_result"
    }
   ],
   "source": [
    "corpora['conll2003'].keys()"
   ]
  },
  {
   "cell_type": "code",
   "execution_count": 10,
   "metadata": {},
   "outputs": [
    {
     "data": {
      "text/plain": [
       "(79,\n",
       " ['الهندي',\n",
       "  'تحرك',\n",
       "  'الكونغرس',\n",
       "  'قبل',\n",
       "  'بدء',\n",
       "  'حملة',\n",
       "  'انتخاباته',\n",
       "  'المقررة',\n",
       "  'في',\n",
       "  'السابع',\n",
       "  'من',\n",
       "  'نوفمبر',\n",
       "  '/',\n",
       "  'تشرين',\n",
       "  'الثاني',\n",
       "  'ليمدد',\n",
       "  'العمل',\n",
       "  'بهذا',\n",
       "  'القرار',\n",
       "  'الذي',\n",
       "  'أوشك',\n",
       "  'على',\n",
       "  'الانتهاء',\n",
       "  'هذا',\n",
       "  'الأسبوع',\n",
       "  '.'],\n",
       " ['I-LOC',\n",
       "  'O',\n",
       "  'B-ORG',\n",
       "  'O',\n",
       "  'O',\n",
       "  'O',\n",
       "  'O',\n",
       "  'O',\n",
       "  'O',\n",
       "  'O',\n",
       "  'O',\n",
       "  'O',\n",
       "  'O',\n",
       "  'O',\n",
       "  'O',\n",
       "  'O',\n",
       "  'O',\n",
       "  'O',\n",
       "  'O',\n",
       "  'O',\n",
       "  'O',\n",
       "  'O',\n",
       "  'O',\n",
       "  'O',\n",
       "  'O',\n",
       "  'O'])"
      ]
     },
     "execution_count": 10,
     "metadata": {},
     "output_type": "execute_result"
    }
   ],
   "source": [
    "corpora['ANERCorp_CamelLab']['test'][79]"
   ]
  },
  {
   "cell_type": "code",
   "execution_count": 11,
   "metadata": {},
   "outputs": [],
   "source": [
    "data_output_folder = local_drive_dir / 'Final Year Experiments/Thesis-Experiments/experimentData'\n",
    "fh = utils.FileHandler(data_output_folder)\n",
    "fh.save_json('corpora.json', corpora)"
   ]
  },
  {
   "cell_type": "code",
   "execution_count": null,
   "metadata": {},
   "outputs": [],
   "source": []
  }
 ],
 "metadata": {
  "kernelspec": {
   "display_name": ".venv",
   "language": "python",
   "name": "python3"
  },
  "language_info": {
   "codemirror_mode": {
    "name": "ipython",
    "version": 3
   },
   "file_extension": ".py",
   "mimetype": "text/x-python",
   "name": "python",
   "nbconvert_exporter": "python",
   "pygments_lexer": "ipython3",
   "version": "3.10.0"
  }
 },
 "nbformat": 4,
 "nbformat_minor": 2
}
